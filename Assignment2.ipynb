{
 "cells": [
  {
   "cell_type": "markdown",
   "id": "933a2b8d-cdf8-42b8-b8ff-831fd7f43741",
   "metadata": {},
   "source": [
    "Q1. How do you comment code in Python? What are the different types of comments?"
   ]
  },
  {
   "cell_type": "markdown",
   "id": "9ea1ba2b-dbe0-4e50-ba7f-8da7bff55e41",
   "metadata": {},
   "source": [
    "Solution:- To comment in python we use #.  comment start with #. Mainly three type of comments single-line, multi-line, and docstring comments. \n"
   ]
  },
  {
   "cell_type": "markdown",
   "id": "a007d285-e060-435c-8d9a-e90af2442069",
   "metadata": {},
   "source": [
    "Q2. What are variables in Python? How do you declare and assign values to variables?"
   ]
  },
  {
   "cell_type": "markdown",
   "id": "a008c373-f496-4f1a-818c-2c6a7f696661",
   "metadata": {},
   "source": [
    "Solution:- Python Variable is containers that store values."
   ]
  },
  {
   "cell_type": "code",
   "execution_count": 1,
   "id": "1fa1af59-0bb8-4bb1-bd0e-02c68338382a",
   "metadata": {},
   "outputs": [
    {
     "name": "stdout",
     "output_type": "stream",
     "text": [
      "hey\n"
     ]
    }
   ],
   "source": [
    "# declaration \n",
    "Var = \"hey\"\n",
    "print(Var)"
   ]
  },
  {
   "cell_type": "markdown",
   "id": "ed4fbd3b-ea80-4292-876b-afbadc16178f",
   "metadata": {},
   "source": [
    "Q3. How do you convert one data type to another in Python"
   ]
  },
  {
   "cell_type": "markdown",
   "id": "60ca9b13-a07c-482e-b8fd-1f44f25eeb23",
   "metadata": {},
   "source": [
    "Solution:- To convert One datatype to another in python .. We take the help of type casting."
   ]
  },
  {
   "cell_type": "code",
   "execution_count": 2,
   "id": "79dddccb-f287-45f2-84b7-cc02675d0206",
   "metadata": {},
   "outputs": [
    {
     "data": {
      "text/plain": [
       "'345'"
      ]
     },
     "execution_count": 2,
     "metadata": {},
     "output_type": "execute_result"
    }
   ],
   "source": [
    "# example convert integer into string \n",
    "A = 345 \n",
    "# Here A is interger \n",
    "# now typecaste it into string \n",
    "str(A)"
   ]
  },
  {
   "cell_type": "markdown",
   "id": "0829b13c-df60-4588-864d-3787179531eb",
   "metadata": {},
   "source": [
    "Q4. How do you write and execute a Python script from the command line"
   ]
  },
  {
   "cell_type": "markdown",
   "id": "01bce568-6dfa-4780-839d-672be163b4d8",
   "metadata": {},
   "source": [
    "Solution : You need to open a command line and type the word python followed by the path to your script file \n",
    "like this: python first_script.py then hit enter \n"
   ]
  },
  {
   "cell_type": "markdown",
   "id": "967b1889-3ae9-46fe-8065-4e89b8b3d3e2",
   "metadata": {},
   "source": [
    "Q5. Given a list my_list = [1, 2, 3, 4, 5], write the code to slice the list and obtain the sub-list [2, 3]"
   ]
  },
  {
   "cell_type": "code",
   "execution_count": 6,
   "id": "5e0526d3-4702-4690-8b0c-cc18e310d796",
   "metadata": {},
   "outputs": [
    {
     "data": {
      "text/plain": [
       "[2, 3]"
      ]
     },
     "execution_count": 6,
     "metadata": {},
     "output_type": "execute_result"
    }
   ],
   "source": [
    "my_list = [ 1,2,3,4,5] \n",
    "# apply slicing \n",
    "my_list[1:3]"
   ]
  },
  {
   "cell_type": "markdown",
   "id": "3201b395-ff78-4552-8308-4520a55714b0",
   "metadata": {},
   "source": [
    "Q6. What is a complex number in mathematics, and how is it represented in Python?"
   ]
  },
  {
   "cell_type": "markdown",
   "id": "b3eee9a3-cdb7-4ac1-a39d-e6ff1c475429",
   "metadata": {},
   "source": [
    "Solution : Complex Number are expressed in the form of a+ib, where a,b are real number and i is imaginary number.\n",
    "\n",
    "\n",
    "\n",
    "\n",
    "\n"
   ]
  },
  {
   "cell_type": "code",
   "execution_count": 12,
   "id": "24cd3aa6-72cd-4be6-9bea-e0294a53e7fc",
   "metadata": {},
   "outputs": [],
   "source": [
    "# representation in python \n",
    "a = 10 \n",
    "b = 19 \n",
    "x = complex(a,b)"
   ]
  },
  {
   "cell_type": "code",
   "execution_count": 13,
   "id": "83987205-7b1c-4d8c-80f9-755eb9d3c6c6",
   "metadata": {},
   "outputs": [
    {
     "data": {
      "text/plain": [
       "(10+19j)"
      ]
     },
     "execution_count": 13,
     "metadata": {},
     "output_type": "execute_result"
    }
   ],
   "source": [
    "x"
   ]
  },
  {
   "cell_type": "markdown",
   "id": "4fba3e7f-73a8-491a-a636-aa87e0453c35",
   "metadata": {},
   "source": [
    "Q7. What is the correct way to declare a variable named age and assign the value 25 to it?"
   ]
  },
  {
   "cell_type": "code",
   "execution_count": 15,
   "id": "ef44bfe0-5ba0-472e-a4a4-91d7ffcbcc62",
   "metadata": {},
   "outputs": [],
   "source": [
    "age = 25"
   ]
  },
  {
   "cell_type": "markdown",
   "id": "66a3160e-6918-4f2b-992a-d35722decde1",
   "metadata": {},
   "source": [
    "Q8. Declare a variable named price and assign the value 9.99 to it. What data type does this variable \n",
    "belong to?"
   ]
  },
  {
   "cell_type": "code",
   "execution_count": 17,
   "id": "ad0bb8b0-d8dc-4694-9948-aa3d9ff4b86c",
   "metadata": {},
   "outputs": [
    {
     "data": {
      "text/plain": [
       "float"
      ]
     },
     "execution_count": 17,
     "metadata": {},
     "output_type": "execute_result"
    }
   ],
   "source": [
    "price = 9.99\n",
    "# price is belong to float data type\n",
    "type(price) "
   ]
  },
  {
   "cell_type": "markdown",
   "id": "aa2baaf7-1f7d-4d32-a23f-f753447b4f55",
   "metadata": {},
   "source": [
    "Q9. Create a variable named name and assign your full name to it as a string. How would you print the \n",
    "value of this variable?"
   ]
  },
  {
   "cell_type": "code",
   "execution_count": 21,
   "id": "ca9c571e-d7ea-4dd0-8425-be95108d2cb1",
   "metadata": {},
   "outputs": [
    {
     "name": "stdout",
     "output_type": "stream",
     "text": [
      "Devesh Kumar Upadhyay\n"
     ]
    }
   ],
   "source": [
    "name = 'Devesh Kumar Upadhyay'\n",
    "#  with the help of print function .. you can print the value of variable name \n",
    "print(name) "
   ]
  },
  {
   "cell_type": "markdown",
   "id": "adf6baf1-e0c2-47b6-8055-6e2fcb28be6a",
   "metadata": {},
   "source": [
    "Q10. Given the string \"Hello, World!\", extract the substring \"World\""
   ]
  },
  {
   "cell_type": "code",
   "execution_count": 22,
   "id": "5533bc45-b451-4d9c-9459-b8188fa4d267",
   "metadata": {},
   "outputs": [],
   "source": [
    "s = 'Hello, World!'"
   ]
  },
  {
   "cell_type": "code",
   "execution_count": 25,
   "id": "6927d5cc-76ca-4d31-8cc7-20eb8fd88deb",
   "metadata": {},
   "outputs": [
    {
     "data": {
      "text/plain": [
       "'World'"
      ]
     },
     "execution_count": 25,
     "metadata": {},
     "output_type": "execute_result"
    }
   ],
   "source": [
    "# Apply Slicing \n",
    "s[7:12] "
   ]
  },
  {
   "cell_type": "markdown",
   "id": "b568b6c1-69b0-4c7f-b6b4-fc71bb111987",
   "metadata": {},
   "source": [
    "Q11. Create a variable named \"is_student\" and assign it a boolean value indicating whether you are \n",
    "currently a student or not."
   ]
  },
  {
   "cell_type": "code",
   "execution_count": 27,
   "id": "c2d4989a-8524-4865-9704-07a1de052e75",
   "metadata": {},
   "outputs": [],
   "source": [
    "# I am student so assign \n",
    "is_student = True"
   ]
  },
  {
   "cell_type": "code",
   "execution_count": null,
   "id": "32a06d77-7a48-4e4c-921c-cb88823a5b41",
   "metadata": {},
   "outputs": [],
   "source": []
  }
 ],
 "metadata": {
  "kernelspec": {
   "display_name": "Python 3 (ipykernel)",
   "language": "python",
   "name": "python3"
  },
  "language_info": {
   "codemirror_mode": {
    "name": "ipython",
    "version": 3
   },
   "file_extension": ".py",
   "mimetype": "text/x-python",
   "name": "python",
   "nbconvert_exporter": "python",
   "pygments_lexer": "ipython3",
   "version": "3.10.8"
  }
 },
 "nbformat": 4,
 "nbformat_minor": 5
}

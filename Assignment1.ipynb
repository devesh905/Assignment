{
 "cells": [
  {
   "cell_type": "markdown",
   "id": "2707cd19-649d-4a92-8f1e-bdd6fdfd9ec3",
   "metadata": {},
   "source": [
    " Q1. Create one variable containing following type of data:"
   ]
  },
  {
   "cell_type": "code",
   "execution_count": 1,
   "id": "531065f1-495a-4a76-9395-13dd05543250",
   "metadata": {},
   "outputs": [],
   "source": [
    "# String \n",
    " \n",
    "str = 'Hello World'"
   ]
  },
  {
   "cell_type": "code",
   "execution_count": 2,
   "id": "94de1b10-5099-4119-b5e6-5bdfe3839606",
   "metadata": {},
   "outputs": [],
   "source": [
    "# List \n",
    "l = ['1' , '9' , 'Dev' ]\n"
   ]
  },
  {
   "cell_type": "code",
   "execution_count": 3,
   "id": "660a09cc-5b2b-471c-aa6e-32b5904b8166",
   "metadata": {},
   "outputs": [],
   "source": [
    "# float \n",
    "s = 37.8 "
   ]
  },
  {
   "cell_type": "code",
   "execution_count": 4,
   "id": "21bcfaba-08fa-43b3-b7d4-c331163edbc8",
   "metadata": {},
   "outputs": [],
   "source": [
    "# tuple \n",
    "tup = ('Devesh' , 'Harsh' , 'Gaurav') "
   ]
  },
  {
   "cell_type": "markdown",
   "id": "ad6716b4-8d5c-4889-9ccf-571a16ce84c3",
   "metadata": {
    "tags": []
   },
   "source": [
    "Q2. What will be the data type of the  given variable.: "
   ]
  },
  {
   "cell_type": "code",
   "execution_count": 5,
   "id": "7d20f2b2-51cf-402f-9fd6-2416eaf72250",
   "metadata": {},
   "outputs": [
    {
     "name": "stdout",
     "output_type": "stream",
     "text": [
      "<class 'str'>\n"
     ]
    }
   ],
   "source": [
    "var1 = '' \n",
    "print(type(var1)) "
   ]
  },
  {
   "cell_type": "code",
   "execution_count": 6,
   "id": "50000ef6-3f16-4403-badf-4a4b17b1fcfb",
   "metadata": {},
   "outputs": [],
   "source": [
    "var2 = '[ DS , ML , Python]'\n"
   ]
  },
  {
   "cell_type": "code",
   "execution_count": 7,
   "id": "159ec5ea-c68f-4ea5-ab4a-cd79190f1ea5",
   "metadata": {},
   "outputs": [
    {
     "name": "stdout",
     "output_type": "stream",
     "text": [
      "<class 'list'>\n"
     ]
    }
   ],
   "source": [
    "var3 = [ 'DS' , 'ML' , 'Python' ]\n",
    "print(type(var3))"
   ]
  },
  {
   "cell_type": "code",
   "execution_count": 8,
   "id": "b9863d30-a456-4634-bd72-ccb3e0674c85",
   "metadata": {},
   "outputs": [
    {
     "name": "stdout",
     "output_type": "stream",
     "text": [
      "<class 'int'>\n"
     ]
    }
   ],
   "source": [
    "var4 = 1 \n",
    "print(type(var4))"
   ]
  },
  {
   "cell_type": "markdown",
   "id": "e3102f87-5dc8-44f3-893f-c3c8bb304494",
   "metadata": {},
   "source": [
    " Q3. Explain the use of the following operators using an example: "
   ]
  },
  {
   "cell_type": "code",
   "execution_count": 9,
   "id": "52a7819e-5780-42f0-ae71-e3eb644a0602",
   "metadata": {},
   "outputs": [],
   "source": [
    "# / \n",
    "# this is Division Arithmetic Operator use to devide a value "
   ]
  },
  {
   "cell_type": "code",
   "execution_count": 10,
   "id": "520ff757-ef8c-4b03-8086-a48bd620b282",
   "metadata": {},
   "outputs": [],
   "source": [
    "# %\n",
    "# Modulus Arithmetic Operator:  it produces a remainder for the integer division."
   ]
  },
  {
   "cell_type": "code",
   "execution_count": 11,
   "id": "6e3aeb2d-cb17-4b4b-b974-0fdf64c5a6e0",
   "metadata": {},
   "outputs": [],
   "source": [
    "# //\n",
    "# \tFloor division : Floor is the smallest possible integer value returned for a double or float value (non-integer values)"
   ]
  },
  {
   "cell_type": "code",
   "execution_count": 12,
   "id": "883d3852-75b7-433a-9253-dc03c1a41153",
   "metadata": {},
   "outputs": [],
   "source": [
    "# ** \n",
    "# Power Operator "
   ]
  },
  {
   "cell_type": "markdown",
   "id": "d6e152fc-c4d3-47bd-97cd-fd889242a1cd",
   "metadata": {},
   "source": [
    " Q4. Create a list of length 10 of your choice containing multiple types of data. Using for loop print the\n",
    " element and its data type."
   ]
  },
  {
   "cell_type": "code",
   "execution_count": 13,
   "id": "185da49d-87cc-4cce-843c-80779c21b4c8",
   "metadata": {},
   "outputs": [
    {
     "name": "stdout",
     "output_type": "stream",
     "text": [
      "2\n",
      "<class 'int'>\n",
      "3\n",
      "<class 'int'>\n",
      "Dev\n",
      "<class 'str'>\n",
      "Raja\n",
      "<class 'str'>\n",
      "3.77\n",
      "<class 'float'>\n",
      "5.67\n",
      "<class 'float'>\n",
      "Gaurav\n",
      "<class 'str'>\n",
      "3\n",
      "<class 'str'>\n",
      "True\n",
      "<class 'bool'>\n",
      "ram\n",
      "<class 'str'>\n"
     ]
    }
   ],
   "source": [
    "l1 = [ 2 , 3 , 'Dev' , 'Raja' , 3.77 , 5.67 , 'Gaurav' , '3' , True , 'ram' ] \n",
    "\n",
    "for i in l1 :\n",
    "    print(i) \n",
    "    print(type(i))"
   ]
  },
  {
   "cell_type": "markdown",
   "id": "496b6ac5-8d9a-44d7-9fa7-754a1721c549",
   "metadata": {},
   "source": [
    " Q5. Using a while loop, verify if the number A is purely divisible by number B and if so then how many\n",
    " times it can be divisible."
   ]
  },
  {
   "cell_type": "code",
   "execution_count": 14,
   "id": "27b37e1f-960a-4ca9-bfff-08c4f1412eb3",
   "metadata": {},
   "outputs": [
    {
     "name": "stdin",
     "output_type": "stream",
     "text": [
      " 10 \n",
      " 2\n"
     ]
    },
    {
     "name": "stdout",
     "output_type": "stream",
     "text": [
      "1\n"
     ]
    }
   ],
   "source": [
    "count = 0 \n",
    "a = int(input())\n",
    "b = int(input())\n",
    "\n",
    "while a>=b : \n",
    "    if a%b == 0 :\n",
    "        a = a // b \n",
    "        count += 1 \n",
    "    else :\n",
    "        break \n",
    "        \n",
    "print(count) "
   ]
  },
  {
   "cell_type": "markdown",
   "id": "168d3232-0c95-457c-b7b3-8e76cf65b63a",
   "metadata": {},
   "source": [
    "Q6. Create a list containing 25 int type data. Using for loop and if-else condition print if the element is\n",
    "divisible by 3 or not."
   ]
  },
  {
   "cell_type": "code",
   "execution_count": 3,
   "id": "099346a9-fc4c-4e20-838a-96ecb1d563b4",
   "metadata": {},
   "outputs": [
    {
     "name": "stdout",
     "output_type": "stream",
     "text": [
      "1  Not Divisible by 3\n",
      "2  Not Divisible by 3\n",
      "4  Not Divisible by 3\n",
      "5  Not Divisible by 3\n",
      "3  Divisible by 3\n",
      "6  Divisible by 3\n",
      "7  Not Divisible by 3\n",
      "8  Not Divisible by 3\n",
      "9  Divisible by 3\n",
      "10  Not Divisible by 3\n",
      "11  Not Divisible by 3\n",
      "12  Divisible by 3\n",
      "13  Not Divisible by 3\n",
      "14  Not Divisible by 3\n",
      "15  Divisible by 3\n",
      "16  Not Divisible by 3\n",
      "17  Not Divisible by 3\n",
      "18  Divisible by 3\n",
      "19  Not Divisible by 3\n",
      "20  Not Divisible by 3\n",
      "21  Divisible by 3\n",
      "22  Not Divisible by 3\n",
      "23  Not Divisible by 3\n",
      "24  Divisible by 3\n",
      "25  Not Divisible by 3\n"
     ]
    }
   ],
   "source": [
    "l2 = [ 1, 2, 4, 5, 3, 6, 7, 8, 9, 10, 11, 12 , 13, 14, 15, 16, 17, 18, 19, 20, 21, 22,23,24,25]\n",
    "\n",
    "for i in l2: \n",
    "    if( i%3 == 0):\n",
    "        print( i , ' Divisible by 3')\n",
    "    else:\n",
    "        print(i , ' Not Divisible by 3') \n",
    "        "
   ]
  },
  {
   "cell_type": "markdown",
   "id": "6ba2c1a9-4287-46ff-bbb8-4704e12d99a3",
   "metadata": {},
   "source": [
    "Q7. What do you understand about mutable and immutable data types? Give examples for both showing\n",
    "this property."
   ]
  },
  {
   "cell_type": "markdown",
   "id": "9ee9e704-bad8-47b8-98bc-654d02abfe03",
   "metadata": {},
   "source": [
    "Answer :- mutable data type are those that allow you to change their value or data in place without affecting the object's identity while immutable objects don't allow this kind of operation. "
   ]
  },
  {
   "cell_type": "code",
   "execution_count": null,
   "id": "0c086ef5-0b61-4df6-9aa4-9008d518c995",
   "metadata": {},
   "outputs": [],
   "source": [
    "#Example of mutable and immutable \n",
    "str = 'Hello'  "
   ]
  }
 ],
 "metadata": {
  "kernelspec": {
   "display_name": "Python 3 (ipykernel)",
   "language": "python",
   "name": "python3"
  },
  "language_info": {
   "codemirror_mode": {
    "name": "ipython",
    "version": 3
   },
   "file_extension": ".py",
   "mimetype": "text/x-python",
   "name": "python",
   "nbconvert_exporter": "python",
   "pygments_lexer": "ipython3",
   "version": "3.10.8"
  }
 },
 "nbformat": 4,
 "nbformat_minor": 5
}

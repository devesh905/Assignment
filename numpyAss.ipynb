{
 "cells": [
  {
   "cell_type": "code",
   "execution_count": 1,
   "id": "27d383ec-2166-41f2-9716-9c7d270027be",
   "metadata": {},
   "outputs": [],
   "source": [
    "import numpy as np \n",
    "list_ = ['1' , '2' , '3' , '4' , '5' ]\n",
    "array_list = np.array(object = list_)"
   ]
  },
  {
   "cell_type": "markdown",
   "id": "d8e04fa9-8846-44c4-84a0-9d38d21a3d6c",
   "metadata": {},
   "source": [
    "Q1. Is there any difference in the data type of variables list_ and array_list? If there is then write a code\n",
    "to print the data types of both the variables."
   ]
  },
  {
   "cell_type": "markdown",
   "id": "4de536cf-ea05-4f35-91ba-5b9474aa69a8",
   "metadata": {},
   "source": [
    "yes, data type of list_ and array_list is different"
   ]
  },
  {
   "cell_type": "code",
   "execution_count": 2,
   "id": "33f73550-57bb-4e00-b4fa-17f4e3da6b8b",
   "metadata": {},
   "outputs": [
    {
     "data": {
      "text/plain": [
       "list"
      ]
     },
     "execution_count": 2,
     "metadata": {},
     "output_type": "execute_result"
    }
   ],
   "source": [
    "type(list_)"
   ]
  },
  {
   "cell_type": "code",
   "execution_count": 3,
   "id": "f8d37657-dc13-4136-aaad-9bfd2ab7882c",
   "metadata": {},
   "outputs": [
    {
     "data": {
      "text/plain": [
       "numpy.ndarray"
      ]
     },
     "execution_count": 3,
     "metadata": {},
     "output_type": "execute_result"
    }
   ],
   "source": [
    "type(array_list)"
   ]
  },
  {
   "cell_type": "markdown",
   "id": "9495829d-31dd-4ba4-b9aa-ccf820329b94",
   "metadata": {},
   "source": [
    "Q2. Write a code to print the data type of each and every element of both the variables list_ and\n",
    "arra_list."
   ]
  },
  {
   "cell_type": "code",
   "execution_count": 7,
   "id": "c798f20a-6f5c-4a70-975b-e7b535e02284",
   "metadata": {},
   "outputs": [
    {
     "name": "stdout",
     "output_type": "stream",
     "text": [
      "Data type of element '1' in list_: <class 'str'>\n",
      "Data type of element '2' in list_: <class 'str'>\n",
      "Data type of element '3' in list_: <class 'str'>\n",
      "Data type of element '4' in list_: <class 'str'>\n",
      "Data type of element '5' in list_: <class 'str'>\n",
      "Data type of element '1' in array_liat: <class 'numpy.str_'>\n",
      "Data type of element '2' in array_liat: <class 'numpy.str_'>\n",
      "Data type of element '3' in array_liat: <class 'numpy.str_'>\n",
      "Data type of element '4' in array_liat: <class 'numpy.str_'>\n",
      "Data type of element '5' in array_liat: <class 'numpy.str_'>\n"
     ]
    }
   ],
   "source": [
    "for i in list_ :\n",
    "    print(f\"Data type of element '{i}' in list_: {type(i)}\")\n",
    "\n",
    "for i in array_list :\n",
    "    print(f\"Data type of element '{i}' in array_liat: {type(i)}\")"
   ]
  },
  {
   "cell_type": "markdown",
   "id": "889a6f59-8e41-46a5-97d7-ac26cd92b7aa",
   "metadata": {},
   "source": [
    "Q3. Considering the following changes in the variable, array_list:\n",
    "array_list = np.array(object = list_, dtype = int)"
   ]
  },
  {
   "cell_type": "markdown",
   "id": "84ff30a5-5090-42e2-9a3f-11f7a2631946",
   "metadata": {},
   "source": [
    "yes, there is difference b/w the datatype of element of  list_ and array_list"
   ]
  },
  {
   "cell_type": "code",
   "execution_count": 8,
   "id": "0e22abe2-b612-45d3-bfc6-941f9b4afcb3",
   "metadata": {},
   "outputs": [],
   "source": [
    "array_list = np.array(object = list_, dtype = int)"
   ]
  },
  {
   "cell_type": "code",
   "execution_count": 10,
   "id": "f4bb46f6-e71a-44ef-9f81-9f570322a049",
   "metadata": {},
   "outputs": [
    {
     "data": {
      "text/plain": [
       "array([1, 2, 3, 4, 5])"
      ]
     },
     "execution_count": 10,
     "metadata": {},
     "output_type": "execute_result"
    }
   ],
   "source": [
    "array_list"
   ]
  },
  {
   "cell_type": "code",
   "execution_count": 15,
   "id": "99ab06c5-3f2c-467a-ac88-ab36c9a5ee3e",
   "metadata": {},
   "outputs": [
    {
     "name": "stdout",
     "output_type": "stream",
     "text": [
      "Data type of element '1' in list_: <class 'str'> \n",
      "Data type of element '2' in list_: <class 'str'> \n",
      "Data type of element '3' in list_: <class 'str'> \n",
      "Data type of element '4' in list_: <class 'str'> \n",
      "Data type of element '5' in list_: <class 'str'> \n",
      "Data type of element '1' in list_: <class 'numpy.int64'> \n",
      "Data type of element '2' in list_: <class 'numpy.int64'> \n",
      "Data type of element '3' in list_: <class 'numpy.int64'> \n",
      "Data type of element '4' in list_: <class 'numpy.int64'> \n",
      "Data type of element '5' in list_: <class 'numpy.int64'> \n"
     ]
    }
   ],
   "source": [
    "for i in list_ :\n",
    "    print(f\"Data type of element '{i}' in list_: {type(i)} \")\n",
    "\n",
    "for i in array_list :\n",
    "    print(f\"Data type of element '{i}' in list_: {type(i)} \")\n"
   ]
  },
  {
   "cell_type": "code",
   "execution_count": 16,
   "id": "572be414-a35f-4260-b91d-ee5c01290ee2",
   "metadata": {},
   "outputs": [],
   "source": [
    "import numpy as np\n",
    "num_list = [ [ 1 , 2 , 3 ] , [ 4 , 5 , 6 ] ]\n",
    "num_array = np.array(object = num_list)"
   ]
  },
  {
   "cell_type": "markdown",
   "id": "883d28cc-430d-46eb-a278-7278b4eb39e0",
   "metadata": {},
   "source": [
    "Q4. Write a code to find the following characteristics of variable, num_array:\n",
    "(i) shape\n",
    "(ii) size"
   ]
  },
  {
   "cell_type": "code",
   "execution_count": 17,
   "id": "f2badb7e-2919-4f70-85e7-7351e619bbdb",
   "metadata": {},
   "outputs": [
    {
     "data": {
      "text/plain": [
       "(2, 3)"
      ]
     },
     "execution_count": 17,
     "metadata": {},
     "output_type": "execute_result"
    }
   ],
   "source": [
    "#1 shape \n",
    "np.shape(num_array)"
   ]
  },
  {
   "cell_type": "code",
   "execution_count": 18,
   "id": "5fce1e8f-c8bd-4e01-9771-07207a4b3b0e",
   "metadata": {},
   "outputs": [
    {
     "data": {
      "text/plain": [
       "6"
      ]
     },
     "execution_count": 18,
     "metadata": {},
     "output_type": "execute_result"
    }
   ],
   "source": [
    "#2 size\n",
    "np.size(num_array)"
   ]
  },
  {
   "cell_type": "markdown",
   "id": "1e45c962-6f91-4c79-856b-ec38aeb55051",
   "metadata": {},
   "source": [
    "Q5. Write a code to create numpy array of 3*3 matrix containing zeros only, using a numpy array\n",
    "creation function.\n",
    "[Hint: The size of the array will be 9 and the shape will be (3,3).]"
   ]
  },
  {
   "cell_type": "code",
   "execution_count": 22,
   "id": "d1bd01b9-7850-4f1d-9835-d215bba3e596",
   "metadata": {},
   "outputs": [],
   "source": [
    "zero_matrix = np.zeros((3,3))"
   ]
  },
  {
   "cell_type": "code",
   "execution_count": 24,
   "id": "a66bccb5-8d4c-48ae-a7ef-41f2337d9031",
   "metadata": {},
   "outputs": [
    {
     "name": "stdout",
     "output_type": "stream",
     "text": [
      "[[0. 0. 0.]\n",
      " [0. 0. 0.]\n",
      " [0. 0. 0.]]\n"
     ]
    }
   ],
   "source": [
    "print(zero_matrix)"
   ]
  },
  {
   "cell_type": "markdown",
   "id": "aec89fd9-96b1-4212-a9a2-67cdce08440b",
   "metadata": {},
   "source": [
    "Q6. Create an identity matrix of shape (5,5) using numpy functions?\n",
    "[Hint: An identity matrix is a matrix containing 1 diagonally and other elements will be 0.]"
   ]
  },
  {
   "cell_type": "code",
   "execution_count": 26,
   "id": "e3037f52-e4c2-4782-85f1-a64e138042e6",
   "metadata": {},
   "outputs": [],
   "source": [
    "identity_matrix = np.identity(5)"
   ]
  },
  {
   "cell_type": "code",
   "execution_count": 28,
   "id": "aa4bc86b-dbd2-427a-aa9c-77a64263bd0c",
   "metadata": {},
   "outputs": [
    {
     "name": "stdout",
     "output_type": "stream",
     "text": [
      "[[1. 0. 0. 0. 0.]\n",
      " [0. 1. 0. 0. 0.]\n",
      " [0. 0. 1. 0. 0.]\n",
      " [0. 0. 0. 1. 0.]\n",
      " [0. 0. 0. 0. 1.]]\n"
     ]
    }
   ],
   "source": [
    "print(identity_matrix)"
   ]
  },
  {
   "cell_type": "code",
   "execution_count": 31,
   "id": "5ecf9c58-3565-4fd3-a3f5-238f306adfbe",
   "metadata": {},
   "outputs": [],
   "source": [
    "# \n",
    "data1=np.diag([1,1,1,1,1])"
   ]
  },
  {
   "cell_type": "code",
   "execution_count": 32,
   "id": "41797c58-dc69-49e9-b688-373d6f4de7da",
   "metadata": {},
   "outputs": [
    {
     "data": {
      "text/plain": [
       "array([[1, 0, 0, 0, 0],\n",
       "       [0, 1, 0, 0, 0],\n",
       "       [0, 0, 1, 0, 0],\n",
       "       [0, 0, 0, 1, 0],\n",
       "       [0, 0, 0, 0, 1]])"
      ]
     },
     "execution_count": 32,
     "metadata": {},
     "output_type": "execute_result"
    }
   ],
   "source": [
    "data1"
   ]
  },
  {
   "cell_type": "code",
   "execution_count": null,
   "id": "ce5ec5c7-ef30-4e2f-b6c7-98a1e5ad0a3d",
   "metadata": {},
   "outputs": [],
   "source": []
  }
 ],
 "metadata": {
  "kernelspec": {
   "display_name": "Python 3 (ipykernel)",
   "language": "python",
   "name": "python3"
  },
  "language_info": {
   "codemirror_mode": {
    "name": "ipython",
    "version": 3
   },
   "file_extension": ".py",
   "mimetype": "text/x-python",
   "name": "python",
   "nbconvert_exporter": "python",
   "pygments_lexer": "ipython3",
   "version": "3.10.8"
  }
 },
 "nbformat": 4,
 "nbformat_minor": 5
}

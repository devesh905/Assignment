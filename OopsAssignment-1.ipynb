{
 "cells": [
  {
   "cell_type": "markdown",
   "id": "f48c5ac1-db7c-4e5e-9c5e-d6b261398f20",
   "metadata": {},
   "source": [
    "Q1. Explain Class and Object with respect to Object-Oriented Programming. Give a suitable example."
   ]
  },
  {
   "cell_type": "markdown",
   "id": "492499c3-3abb-467b-89f7-96d9fa514a7f",
   "metadata": {},
   "source": [
    "Class − A class can be defined as a template/blueprint that describes the behavior/state that the object of its type support.\n",
    "\n",
    "Object − Objects have states and behaviors. Example: A dog has states - color, name, breed as well as behaviors – wagging the tail, barking, eating. An object is an instance of a class."
   ]
  },
  {
   "cell_type": "markdown",
   "id": "2d9d12a9-2421-44c4-813c-0c7dbe528019",
   "metadata": {},
   "source": [
    "Q2. Name the four pillars of OOPs."
   ]
  },
  {
   "cell_type": "markdown",
   "id": "193eee5c-c795-46ab-a50e-f0303e7cc636",
   "metadata": {},
   "source": [
    "Sol: Four pillars of oops are : abstraction, encapsulation, inheritance, and polymorphism ."
   ]
  },
  {
   "cell_type": "markdown",
   "id": "79b6c9ef-b81d-44f3-abc5-fd73c49140bf",
   "metadata": {},
   "source": [
    "Q3. Explain why the __init__() function is used. Give a suitable example."
   ]
  },
  {
   "cell_type": "markdown",
   "id": "3400fd8d-6645-4212-b274-2063a1a56d9e",
   "metadata": {},
   "source": [
    "Sol: \n",
    "The __init__() function in Python is a special method (also known as a constructor) that is automatically called when an instance of a class is created. "
   ]
  },
  {
   "cell_type": "code",
   "execution_count": 1,
   "id": "bfc06d17-f6af-4080-a32d-b0fc73b63615",
   "metadata": {},
   "outputs": [],
   "source": [
    "class Dog:\n",
    "    def __init__(self, name, age):\n",
    "        self.name = name\n",
    "        self.age = age\n",
    "        self.is_hungry = True\n",
    "\n",
    "    def bark(self):\n",
    "        print(self.name , \"says woof!\")\n",
    "\n",
    "    def feed(self):\n",
    "        if self.is_hungry:\n",
    "            print(self.name , \"is eating.\")\n",
    "            self.is_hungry = False\n",
    "        else:\n",
    "            print(self.name ,\"is not hungry.\")\n"
   ]
  },
  {
   "cell_type": "code",
   "execution_count": 2,
   "id": "40566b50-f3d3-4b7f-adbe-c16f93718a4e",
   "metadata": {},
   "outputs": [
    {
     "name": "stdout",
     "output_type": "stream",
     "text": [
      "Buddy is 3 years old.\n",
      "Charlie is 2 years old.\n",
      "Buddy says woof!\n",
      "Charlie says woof!\n",
      "Buddy is eating.\n",
      "Buddy is not hungry.\n",
      "Charlie is eating.\n"
     ]
    }
   ],
   "source": [
    "# Create instances of the Dog class\n",
    "dog1 = Dog(\"Buddy\", 3)\n",
    "dog2 = Dog(\"Charlie\", 2)\n",
    "\n",
    "# Accessing attributes and methods of the instances\n",
    "print(dog1.name, \"is\" , dog1.age , \"years old.\")\n",
    "print(dog2.name , \"is\" ,  dog2.age , \"years old.\")\n",
    "\n",
    "dog1.bark()\n",
    "dog2.bark()\n",
    "\n",
    "dog1.feed()  \n",
    "dog1.feed() \n",
    "\n",
    "dog2.feed() \n"
   ]
  },
  {
   "cell_type": "markdown",
   "id": "72fa6c33-9648-4d7e-b699-8c3c035db1d2",
   "metadata": {},
   "source": [
    "Q4. Why self is used in OOPs?"
   ]
  },
  {
   "cell_type": "markdown",
   "id": "75d2c405-7a89-4797-a5ba-72bc8311780d",
   "metadata": {},
   "source": [
    "sol:  self is convention used in python to refer to the instance of the class within the class methods.\n",
    " The use of self helps distinguish between instance variables and local variables."
   ]
  },
  {
   "cell_type": "markdown",
   "id": "2fe997ed-a9dc-4687-ba39-2d756435bac5",
   "metadata": {},
   "source": [
    "Q5. What is inheritance? Give an example for each type of inheritance."
   ]
  },
  {
   "cell_type": "markdown",
   "id": "c810a107-f8d0-47ff-8e58-8c6069b285b7",
   "metadata": {},
   "source": [
    "sol: Inheritance is a fundamental concept in object-oriented programming (OOP) that allows a new class (subclass or derived class) to inherit attributes and methods from an existing class (superclass or base class)."
   ]
  },
  {
   "cell_type": "code",
   "execution_count": 5,
   "id": "8c42bea6-d216-4649-b309-f5614319d8b8",
   "metadata": {},
   "outputs": [],
   "source": [
    "# 1. Single Inheritance:\n",
    "class Animal:\n",
    "    def speak(self):\n",
    "        pass\n",
    "\n",
    "class Dog(Animal):\n",
    "    def speak(self):\n",
    "        return \"Woof!\"\n",
    "\n",
    "class Cat(Animal):\n",
    "    def speak(self):\n",
    "        return \"Meow!\""
   ]
  },
  {
   "cell_type": "code",
   "execution_count": 6,
   "id": "40fd798b-f05d-4e57-a476-b06287187636",
   "metadata": {},
   "outputs": [],
   "source": [
    "#2 Multiple Inheritance\n",
    "\n",
    "class Fish:\n",
    "    def swim(self):\n",
    "        return \"Swimming\"\n",
    "\n",
    "class Mammal:\n",
    "    def feed_milk(self):\n",
    "        return \"Feeding milk\"\n",
    "\n",
    "class Dolphin(Fish, Mammal):\n",
    "    pass\n"
   ]
  },
  {
   "cell_type": "code",
   "execution_count": 7,
   "id": "80fd31c6-2152-45c3-8a7a-b015bdc79c0a",
   "metadata": {},
   "outputs": [],
   "source": [
    "#3 Multilevel Inheritance\n",
    "\n",
    "class Vehicle:\n",
    "    def move(self):\n",
    "        return \"Moving\"\n",
    "\n",
    "class Car(Vehicle):\n",
    "    def honk(self):\n",
    "        return \"Honk!\"\n",
    "\n",
    "class SportsCar(Car):\n",
    "    def accelerate(self):\n",
    "        return \"Accelerating\"\n"
   ]
  },
  {
   "cell_type": "code",
   "execution_count": 8,
   "id": "9be62402-49ac-4355-9402-ce645fd4c7f3",
   "metadata": {},
   "outputs": [],
   "source": [
    "#4 Hierarchical Inheritance\n",
    "\n",
    "class Shape:\n",
    "    def area(self):\n",
    "        pass\n",
    "\n",
    "class Circle(Shape):\n",
    "    def area(self, radius):\n",
    "        return 3.14 * radius ** 2\n",
    "\n",
    "class Square(Shape):\n",
    "    def area(self, side):\n",
    "        return side ** 2\n"
   ]
  },
  {
   "cell_type": "code",
   "execution_count": null,
   "id": "eb1b6247-ca48-4b93-be75-e5d9ac7ba0eb",
   "metadata": {},
   "outputs": [],
   "source": [
    "#5 Hybrid Inheritance\n",
    "\n",
    "class Animal:\n",
    "    def __init__(self, species):\n",
    "        self.species = species\n",
    "    def get_species(self):\n",
    "        return self.species\n",
    "\n",
    "class CanFly:\n",
    "    def fly(self):\n",
    "        return \"Flying\"\n",
    "\n",
    "class CanSwim:\n",
    "    def swim(self):\n",
    "        return \"Swimming\"\n",
    "\n",
    "class FlyingFish(Animal, CanFly, CanSwim):\n",
    "    def __init__(self, species):\n",
    "        super().__init__(species)\n",
    "\n",
    "    def display_info(self):\n",
    "        return f\"A {self.get_species()} that can {self.fly()} and {self.swim()}.\"\n"
   ]
  }
 ],
 "metadata": {
  "kernelspec": {
   "display_name": "Python 3 (ipykernel)",
   "language": "python",
   "name": "python3"
  },
  "language_info": {
   "codemirror_mode": {
    "name": "ipython",
    "version": 3
   },
   "file_extension": ".py",
   "mimetype": "text/x-python",
   "name": "python",
   "nbconvert_exporter": "python",
   "pygments_lexer": "ipython3",
   "version": "3.10.8"
  }
 },
 "nbformat": 4,
 "nbformat_minor": 5
}

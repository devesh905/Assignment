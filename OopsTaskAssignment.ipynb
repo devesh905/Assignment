{
 "cells": [
  {
   "cell_type": "markdown",
   "id": "a83d0e2d-ed5d-4ffa-85a4-92559151b213",
   "metadata": {},
   "source": [
    "Q1, Create a vehicle class with an init method having instance variables as name_of_vehicle, max_speed\n",
    "and average_of_vehicle."
   ]
  },
  {
   "cell_type": "code",
   "execution_count": 2,
   "id": "11eec5bc-dede-4e6d-a5c7-5d27c14fd3ee",
   "metadata": {},
   "outputs": [],
   "source": [
    "class vehicle:\n",
    "    \n",
    "    def __init__(self, name_of_vehicle , max_speed ,average_of_vehicle ):\n",
    "        self.name = name_of_vehicle\n",
    "        self.speed = max_speed\n",
    "        self.average = average_of_vehicle"
   ]
  },
  {
   "cell_type": "code",
   "execution_count": 3,
   "id": "042a7681-76d8-454c-a84b-481c89e64898",
   "metadata": {},
   "outputs": [],
   "source": [
    "car = vehicle('BMW' , 300 , 20)"
   ]
  },
  {
   "cell_type": "markdown",
   "id": "64698969-71e2-41da-8a3a-9e70cfc231cb",
   "metadata": {},
   "source": [
    "Q2. Create a child class car from the vehicle class created in Que 1, which will inherit the vehicle class.\n",
    "Create a method named seating_capacity which takes capacity as an argument and returns the name of\n",
    "the vehicle and its seating capacity."
   ]
  },
  {
   "cell_type": "code",
   "execution_count": 11,
   "id": "d355ff75-ec5b-410a-8403-a729068df374",
   "metadata": {},
   "outputs": [],
   "source": [
    "class car(vehicle):\n",
    "    \n",
    "    def seating_capacity(self , capacity):\n",
    "        return self.name , capacity "
   ]
  },
  {
   "cell_type": "code",
   "execution_count": 12,
   "id": "19f3d5e4-6734-45b5-9d19-f73d53e2109a",
   "metadata": {},
   "outputs": [],
   "source": [
    "car1 = car('OD' , 300 , 15)"
   ]
  },
  {
   "cell_type": "code",
   "execution_count": 13,
   "id": "95f20af9-735f-4e7e-8499-51c2e0e29524",
   "metadata": {},
   "outputs": [
    {
     "data": {
      "text/plain": [
       "('OD', 4)"
      ]
     },
     "execution_count": 13,
     "metadata": {},
     "output_type": "execute_result"
    }
   ],
   "source": [
    "car1.seating_capacity(4)"
   ]
  },
  {
   "cell_type": "markdown",
   "id": "abbe301a-faa1-4a83-8619-ed455e7ce051",
   "metadata": {},
   "source": [
    "Q3. What is multiple inheritance? Write a python code to demonstrate multiple inheritance."
   ]
  },
  {
   "cell_type": "markdown",
   "id": "c18c7920-4761-43f0-bb38-76a956af6164",
   "metadata": {},
   "source": [
    "Sol: Multiple inheritance is define as when a class inherit the property of two different class."
   ]
  },
  {
   "cell_type": "code",
   "execution_count": 17,
   "id": "6cd910be-b4a8-4933-a6ac-a09924634bef",
   "metadata": {},
   "outputs": [],
   "source": [
    "class class1:\n",
    "    \n",
    "    def test_class1(self):\n",
    "        return 'this is class 1 '\n",
    "    \n",
    "class class2:\n",
    "    \n",
    "    def test_class2(self):\n",
    "        return 'this is class 2 '"
   ]
  },
  {
   "cell_type": "code",
   "execution_count": 18,
   "id": "93e4dc4c-290d-47c1-a514-cb622ad152e1",
   "metadata": {},
   "outputs": [],
   "source": [
    "class class3(class1 , class2):\n",
    "    pass "
   ]
  },
  {
   "cell_type": "code",
   "execution_count": 19,
   "id": "54e5ef49-deec-414a-add3-e5bad4df7a4a",
   "metadata": {},
   "outputs": [],
   "source": [
    "obj = class3()"
   ]
  },
  {
   "cell_type": "code",
   "execution_count": 21,
   "id": "0614d1a5-be00-4458-b850-f7e69784f3b6",
   "metadata": {},
   "outputs": [
    {
     "data": {
      "text/plain": [
       "'this is class 1 '"
      ]
     },
     "execution_count": 21,
     "metadata": {},
     "output_type": "execute_result"
    }
   ],
   "source": [
    "obj.test_class2()\n",
    "obj.test_class1()"
   ]
  },
  {
   "cell_type": "markdown",
   "id": "7405d5ab-8252-4968-a13f-6e5f187fdbfe",
   "metadata": {},
   "source": [
    "Q4. What are getter and setter in python? Create a class and create a getter and a setter method in this\n",
    "class."
   ]
  },
  {
   "cell_type": "markdown",
   "id": "13381b16-1f8c-48fc-9904-2320c17ab8f3",
   "metadata": {},
   "source": [
    "Sol: Getter: A method that allows you to access an attribute in a given class. Setter: A method that allows you to set or mutate the value of an attribute in a class."
   ]
  },
  {
   "cell_type": "code",
   "execution_count": 22,
   "id": "d17fa052-57d7-4a99-b0a8-a4af29b8367b",
   "metadata": {},
   "outputs": [],
   "source": [
    "class person:\n",
    "    def __init__(self, age = 0):\n",
    "         self._age = age\n",
    "      \n",
    "    # getter method\n",
    "    def get_age(self):\n",
    "        return self._age\n",
    "      \n",
    "    # setter method\n",
    "    def set_age(self, x):\n",
    "        self._age = x"
   ]
  },
  {
   "cell_type": "code",
   "execution_count": 31,
   "id": "aebd4c11-7916-4001-8705-1ccd2c4cd333",
   "metadata": {},
   "outputs": [],
   "source": [
    "deva = person()"
   ]
  },
  {
   "cell_type": "code",
   "execution_count": 33,
   "id": "36b4f4c8-1b03-4cf8-975a-e17680c9b586",
   "metadata": {},
   "outputs": [
    {
     "data": {
      "text/plain": [
       "21"
      ]
     },
     "execution_count": 33,
     "metadata": {},
     "output_type": "execute_result"
    }
   ],
   "source": [
    "deva.set_age(21)\n",
    "deva.get_age()"
   ]
  },
  {
   "cell_type": "markdown",
   "id": "5e50efa6-98e2-40b1-aec3-c82411bf45df",
   "metadata": {},
   "source": [
    "Q5.What is method overriding in python? Write a python code to demonstrate method overriding."
   ]
  },
  {
   "cell_type": "markdown",
   "id": "78e03828-86ab-4847-978a-7f1aa5f2b279",
   "metadata": {},
   "source": [
    "sol:  Method overriding in Python is when you have two methods with the same name that each perform different tasks."
   ]
  },
  {
   "cell_type": "code",
   "execution_count": 34,
   "id": "97de07eb-ec4a-4216-84f5-5fc919159e74",
   "metadata": {},
   "outputs": [],
   "source": [
    "import abc "
   ]
  },
  {
   "cell_type": "code",
   "execution_count": 41,
   "id": "bb2fcfad-2e91-4927-aacb-401e88a43449",
   "metadata": {},
   "outputs": [],
   "source": [
    "class class1:\n",
    "    \n",
    "    def test_method(self):\n",
    "        return \"Gaurav\""
   ]
  },
  {
   "cell_type": "code",
   "execution_count": 42,
   "id": "77138370-5e31-4f82-8775-176000c28f7c",
   "metadata": {},
   "outputs": [],
   "source": [
    "class class2(class1):\n",
    "    \n",
    "    def test_method(self):\n",
    "        return 'Devesh'"
   ]
  },
  {
   "cell_type": "code",
   "execution_count": 45,
   "id": "bf360039-afb3-43ce-bef8-32a16ebfae22",
   "metadata": {},
   "outputs": [],
   "source": [
    "obj1 = class1()\n",
    "obj2 = class2()"
   ]
  },
  {
   "cell_type": "code",
   "execution_count": 46,
   "id": "9c1695ec-30d3-4315-a127-201c14524611",
   "metadata": {},
   "outputs": [
    {
     "data": {
      "text/plain": [
       "'Gaurav'"
      ]
     },
     "execution_count": 46,
     "metadata": {},
     "output_type": "execute_result"
    }
   ],
   "source": [
    "obj1.test_method()"
   ]
  },
  {
   "cell_type": "code",
   "execution_count": 47,
   "id": "1c021573-9882-4618-91d5-cbff62ed4b5b",
   "metadata": {},
   "outputs": [
    {
     "data": {
      "text/plain": [
       "'Devesh'"
      ]
     },
     "execution_count": 47,
     "metadata": {},
     "output_type": "execute_result"
    }
   ],
   "source": [
    "obj2.test_method()"
   ]
  },
  {
   "cell_type": "code",
   "execution_count": null,
   "id": "da7b4950-0cb2-4999-9d0d-95f0ab5cddbc",
   "metadata": {},
   "outputs": [],
   "source": []
  }
 ],
 "metadata": {
  "kernelspec": {
   "display_name": "Python 3 (ipykernel)",
   "language": "python",
   "name": "python3"
  },
  "language_info": {
   "codemirror_mode": {
    "name": "ipython",
    "version": 3
   },
   "file_extension": ".py",
   "mimetype": "text/x-python",
   "name": "python",
   "nbconvert_exporter": "python",
   "pygments_lexer": "ipython3",
   "version": "3.10.8"
  }
 },
 "nbformat": 4,
 "nbformat_minor": 5
}

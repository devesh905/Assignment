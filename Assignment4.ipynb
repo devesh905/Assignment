{
 "cells": [
  {
   "cell_type": "markdown",
   "id": "37be9bb3-3751-4377-817a-dc49427f87b2",
   "metadata": {},
   "source": [
    "Q1. Create a python program to sort the given list of tuples based on integer value using a\n",
    "lambda function.\n",
    "[('Sachin Tendulkar', 34357), ('Ricky Ponting', 27483), ('Jack Kallis', 25534), ('Virat Kohli', 24936)]"
   ]
  },
  {
   "cell_type": "code",
   "execution_count": 2,
   "id": "0273e709-576d-44b8-891a-566f2cb932c9",
   "metadata": {},
   "outputs": [],
   "source": [
    "l1 =  [('Sachin Tendulkar', 34357), ('Ricky Ponting', 27483), ('Jack Kallis', 25534), ('Virat Kohli', 24936)]\n",
    "\n",
    "sort_list = sorted(l1 , key = lambda x : x[1])"
   ]
  },
  {
   "cell_type": "code",
   "execution_count": 3,
   "id": "2d193a6f-6126-4047-ad6d-f340e1ec0c09",
   "metadata": {},
   "outputs": [
    {
     "data": {
      "text/plain": [
       "[('Virat Kohli', 24936),\n",
       " ('Jack Kallis', 25534),\n",
       " ('Ricky Ponting', 27483),\n",
       " ('Sachin Tendulkar', 34357)]"
      ]
     },
     "execution_count": 3,
     "metadata": {},
     "output_type": "execute_result"
    }
   ],
   "source": [
    "sort_list "
   ]
  },
  {
   "cell_type": "markdown",
   "id": "117e81cb-34be-440a-801e-34d498935572",
   "metadata": {},
   "source": [
    "Q2. Write a Python Program to find the squares of all the numbers in the given list of integers using\n",
    "lambda and map functions.\n",
    "[1, 2, 3, 4, 5, 6, 7, 8, 9, 10]"
   ]
  },
  {
   "cell_type": "code",
   "execution_count": 5,
   "id": "9e66ad5c-fd6b-420a-8251-a40fb875f4d8",
   "metadata": {},
   "outputs": [
    {
     "data": {
      "text/plain": [
       "[1, 4, 9, 16, 25, 36, 49, 64, 81, 100]"
      ]
     },
     "execution_count": 5,
     "metadata": {},
     "output_type": "execute_result"
    }
   ],
   "source": [
    "l2 = [1, 2, 3, 4, 5, 6, 7, 8, 9, 10]\n",
    "\n",
    "list(map( lambda x : x**2 , l2))"
   ]
  },
  {
   "cell_type": "markdown",
   "id": "cf33529b-7f0f-47ae-9dfe-510db66c82ff",
   "metadata": {},
   "source": [
    "Q3. Write a python program to convert the given list of integers into a tuple of strings. Use map and\n",
    "lambda functions\n",
    "Given String: [1, 2, 3, 4, 5, 6, 7, 8, 9, 10]\n",
    "Expected output: ('1', '2', '3', '4', '5', '6', '7', '8', '9', '10')"
   ]
  },
  {
   "cell_type": "code",
   "execution_count": 6,
   "id": "69e033cf-5689-4409-91a0-cdcbe7db2606",
   "metadata": {},
   "outputs": [
    {
     "data": {
      "text/plain": [
       "('1', '2', '3', '4', '5', '6', '7', '8', '9', '10')"
      ]
     },
     "execution_count": 6,
     "metadata": {},
     "output_type": "execute_result"
    }
   ],
   "source": [
    "l3 = [1, 2, 3, 4, 5, 6, 7, 8, 9, 10]\n",
    "\n",
    "tuple(map( lambda x : str(x) , l3 ))"
   ]
  },
  {
   "cell_type": "markdown",
   "id": "5c1e085a-4773-4aff-b2f2-e43cfd320951",
   "metadata": {},
   "source": [
    "Q4. Write a python program using reduce function to compute the product of a list containing numbers\n",
    "from 1 to 25."
   ]
  },
  {
   "cell_type": "code",
   "execution_count": 9,
   "id": "90aa9d2d-47ee-4b44-b677-dd0e33992a3a",
   "metadata": {},
   "outputs": [],
   "source": [
    "l4 = [1,2,3,4,5,6,7,8,9,10,11,12,13,14,15,16,17,18,19,20,21,22,23,24,25]"
   ]
  },
  {
   "cell_type": "code",
   "execution_count": 10,
   "id": "18ce46f7-2792-4249-a2bb-10d2d21334a6",
   "metadata": {},
   "outputs": [],
   "source": [
    "from functools import reduce"
   ]
  },
  {
   "cell_type": "code",
   "execution_count": 11,
   "id": "9bdb3e59-c5f2-4967-97c3-2b87696bc40c",
   "metadata": {},
   "outputs": [],
   "source": [
    "product = reduce(lambda x , y : x*y , l4)"
   ]
  },
  {
   "cell_type": "code",
   "execution_count": 12,
   "id": "a4cb276b-82d4-4b65-a542-7d152bc0684e",
   "metadata": {},
   "outputs": [
    {
     "name": "stdout",
     "output_type": "stream",
     "text": [
      "15511210043330985984000000\n"
     ]
    }
   ],
   "source": [
    "print(product)"
   ]
  },
  {
   "cell_type": "markdown",
   "id": "f345dfa2-8980-495c-96f9-4134bbcf18cb",
   "metadata": {},
   "source": [
    "Q5. Write a python program to filter the numbers in a given list that are divisible by 2 and 3 using the\n",
    "filter function.\n",
    "[2, 3, 6, 9, 27, 60, 90, 120, 55, 46]"
   ]
  },
  {
   "cell_type": "code",
   "execution_count": 14,
   "id": "cade16b0-0014-4b8c-b3b3-6c1ebcbbcecb",
   "metadata": {},
   "outputs": [
    {
     "data": {
      "text/plain": [
       "[2, 6, 60, 90, 120, 46]"
      ]
     },
     "execution_count": 14,
     "metadata": {},
     "output_type": "execute_result"
    }
   ],
   "source": [
    "l5 = [2, 3, 6, 9, 27, 60, 90, 120, 55, 46]\n",
    "# list of divisible by 2\n",
    "list(filter(lambda x : x%2 == 0 , l5 ))"
   ]
  },
  {
   "cell_type": "code",
   "execution_count": 15,
   "id": "28b510e4-6889-4bfa-b6f1-56b3e37b9e86",
   "metadata": {},
   "outputs": [
    {
     "data": {
      "text/plain": [
       "[3, 6, 9, 27, 60, 90, 120]"
      ]
     },
     "execution_count": 15,
     "metadata": {},
     "output_type": "execute_result"
    }
   ],
   "source": [
    "# list of divisible by 3\n",
    "list(filter(lambda x : x%3 == 0 , l5 ))"
   ]
  },
  {
   "cell_type": "markdown",
   "id": "b27c68cf-c988-4677-9d1b-f9c1190d4739",
   "metadata": {},
   "source": [
    "Q6. Write a python program to find palindromes in the given list of strings using lambda and filter\n",
    "function.\n",
    "['python', 'php', 'aba', 'radar', 'level']"
   ]
  },
  {
   "cell_type": "code",
   "execution_count": 19,
   "id": "b07f67cd-3c91-4fa3-878f-857ad8206e62",
   "metadata": {},
   "outputs": [
    {
     "data": {
      "text/plain": [
       "['php', 'aba', 'radar', 'level']"
      ]
     },
     "execution_count": 19,
     "metadata": {},
     "output_type": "execute_result"
    }
   ],
   "source": [
    "l6 = ['python', 'php', 'aba', 'radar', 'level']\n",
    "\n",
    "def is_palindrome(s):\n",
    "    s = s.lower()  \n",
    "    return s == s[::-1]\n",
    "\n",
    "list(filter( lambda x : is_palindrome(x) , l6  ))"
   ]
  },
  {
   "cell_type": "code",
   "execution_count": null,
   "id": "2df025c5-7648-46fc-a3c2-d48df20b3568",
   "metadata": {},
   "outputs": [],
   "source": []
  }
 ],
 "metadata": {
  "kernelspec": {
   "display_name": "Python 3 (ipykernel)",
   "language": "python",
   "name": "python3"
  },
  "language_info": {
   "codemirror_mode": {
    "name": "ipython",
    "version": 3
   },
   "file_extension": ".py",
   "mimetype": "text/x-python",
   "name": "python",
   "nbconvert_exporter": "python",
   "pygments_lexer": "ipython3",
   "version": "3.10.8"
  }
 },
 "nbformat": 4,
 "nbformat_minor": 5
}

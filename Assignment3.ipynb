{
 "cells": [
  {
   "cell_type": "markdown",
   "id": "c9ba971e-a4e2-4773-99d2-7866f3a943b0",
   "metadata": {},
   "source": [
    "Q1. Which keyword is used to create a function? Create a function to return a list of odd numbers in the\n",
    "range of 1 to 25."
   ]
  },
  {
   "cell_type": "markdown",
   "id": "ba0da8af-1bd6-4f4a-a3a4-048d60463f21",
   "metadata": {},
   "source": [
    "Sol :  def keyword is used to create a function."
   ]
  },
  {
   "cell_type": "code",
   "execution_count": 1,
   "id": "bb7a9ddd-45dc-44fc-86d7-4489c44bfa16",
   "metadata": {},
   "outputs": [],
   "source": [
    "# list of odd number range 1 to 25 \n",
    "\n",
    "def oddnumlist():\n",
    "    l = []\n",
    "    for i in range(1 , 26):\n",
    "        if i%2 != 0 :\n",
    "            l.append(i)\n",
    "    return l \n",
    "    "
   ]
  },
  {
   "cell_type": "code",
   "execution_count": 2,
   "id": "19d187b4-3360-4d55-8cea-cfa2f1af9628",
   "metadata": {},
   "outputs": [
    {
     "data": {
      "text/plain": [
       "[1, 3, 5, 7, 9, 11, 13, 15, 17, 19, 21, 23, 25]"
      ]
     },
     "execution_count": 2,
     "metadata": {},
     "output_type": "execute_result"
    }
   ],
   "source": [
    "oddnumlist()"
   ]
  },
  {
   "cell_type": "markdown",
   "id": "58992e15-5210-4013-a694-eab818789533",
   "metadata": {},
   "source": [
    "Q2. Why *args and **kwargs is used in some functions? Create a function each for *args and **kwargs\n",
    "to demonstrate their use."
   ]
  },
  {
   "cell_type": "markdown",
   "id": "197026e9-029c-4a52-82bc-93e5293cb855",
   "metadata": {},
   "source": [
    "Sol : You can use *args and **kwargs as arguments of a function when you are unsure about the number of arguments to pass in the functions. *arg use when You want to make dynamic argument function. **kwargs use when you want \n",
    "output in form of key value pair.  "
   ]
  },
  {
   "cell_type": "code",
   "execution_count": 3,
   "id": "0bf8b8ab-1815-4ca3-b643-7672f4d9e4c9",
   "metadata": {},
   "outputs": [
    {
     "data": {
      "text/plain": [
       "(1, 2, 3, 4, 56, 77, 7, 8, 8, 76)"
      ]
     },
     "execution_count": 3,
     "metadata": {},
     "output_type": "execute_result"
    }
   ],
   "source": [
    "#example of *args \n",
    "\n",
    "def type(*args):  \n",
    "    return args \n",
    "\n",
    "type(1,2,3,4,56,77,7,8,8,76)"
   ]
  },
  {
   "cell_type": "code",
   "execution_count": 4,
   "id": "f9ef28de-0c70-4b25-8b1b-fd71134dea8a",
   "metadata": {},
   "outputs": [],
   "source": [
    "# example of **kwargs\n",
    "\n",
    "def type7(**keyvalue):\n",
    "    return keyvalue "
   ]
  },
  {
   "cell_type": "code",
   "execution_count": 5,
   "id": "b1f7ebbb-7ef8-44d9-af3d-83d6ec9fdd85",
   "metadata": {},
   "outputs": [
    {
     "data": {
      "text/plain": [
       "{'a': [1, 2, 34], 'b': 'Devesh', 'c': 9.8, 'd': 'Hello'}"
      ]
     },
     "execution_count": 5,
     "metadata": {},
     "output_type": "execute_result"
    }
   ],
   "source": [
    "type7( a = [1,2,34] , b = 'Devesh' , c = 9.8 , d = 'Hello')"
   ]
  },
  {
   "cell_type": "markdown",
   "id": "54fb13fd-8ff0-4a73-82ec-4eaa047032b5",
   "metadata": {},
   "source": [
    "Q3. What is an iterator in python? Name the method used to initialise the iterator object and the method\n",
    "used for iteration. Use these methods to print the first five elements of the given list [2, 4, 6, 8, 10, 12, 14,\n",
    "16, 18, 20]."
   ]
  },
  {
   "cell_type": "markdown",
   "id": "681d7fb5-2eaf-47d0-a403-0c2f307e09d1",
   "metadata": {},
   "source": [
    "Sol : an iterator is an object that allows you to iterate over collections of data, such as lists, tuples, dictionaries, and sets.\n",
    "Iter() method is used to initialize the iterator object.\n"
   ]
  },
  {
   "cell_type": "code",
   "execution_count": 6,
   "id": "130cd7a7-f256-460c-a37b-845d6641bdc0",
   "metadata": {},
   "outputs": [
    {
     "name": "stdout",
     "output_type": "stream",
     "text": [
      "2\n",
      "4\n",
      "6\n",
      "8\n",
      "10\n"
     ]
    }
   ],
   "source": [
    "l1 = [2, 4, 6, 8, 10, 12, 14, 16, 18, 20]\n",
    "\n",
    "# Create an iterator object from the list using iter()\n",
    "iterator = iter(l1)\n",
    "\n",
    "for i in range(5):\n",
    "    element = next(iterator)\n",
    "    print(element )"
   ]
  },
  {
   "cell_type": "markdown",
   "id": "e7da9df9-03be-4d19-9402-82b02d3bf355",
   "metadata": {},
   "source": [
    "Q4. What is a generator function in python? Why yield keyword is used? Give an example of a generator\n",
    "function."
   ]
  },
  {
   "cell_type": "markdown",
   "id": "f026f000-8827-4bc9-a9ee-9fa8cf8332ee",
   "metadata": {},
   "source": [
    "sol : A Python generator function allows you to declare a function that behaves like an iterator, providing a faster and easier way to create iterators.\n",
    "yield keyword is used to create a generator function.\n"
   ]
  },
  {
   "cell_type": "code",
   "execution_count": 7,
   "id": "b7beae16-4b67-49de-9a5b-33ce23c60492",
   "metadata": {},
   "outputs": [],
   "source": [
    "#example \n",
    "def count_test(n):\n",
    "    count = 1 \n",
    "    while count < n :\n",
    "        yield count \n",
    "        count = count + 1 \n",
    "\n",
    "c =count_test(10)"
   ]
  },
  {
   "cell_type": "code",
   "execution_count": 8,
   "id": "3590e063-fa5a-4d28-b855-14b03a60e7e6",
   "metadata": {},
   "outputs": [
    {
     "name": "stdout",
     "output_type": "stream",
     "text": [
      "1\n",
      "2\n",
      "3\n",
      "4\n",
      "5\n",
      "6\n",
      "7\n",
      "8\n",
      "9\n"
     ]
    }
   ],
   "source": [
    "for i in c :\n",
    "    print(i)"
   ]
  },
  {
   "cell_type": "markdown",
   "id": "6765d7d3-c9d3-4090-9986-b20a90d4fee9",
   "metadata": {},
   "source": [
    "Q5. Create a generator function for prime numbers less than 1000. Use the next() method to print the\n",
    "first 20 prime numbers."
   ]
  },
  {
   "cell_type": "code",
   "execution_count": 9,
   "id": "d7c7bd07-5099-4635-b47b-1c4c17790539",
   "metadata": {},
   "outputs": [
    {
     "name": "stdout",
     "output_type": "stream",
     "text": [
      "2\n",
      "3\n",
      "5\n",
      "7\n",
      "11\n",
      "13\n",
      "17\n",
      "19\n",
      "23\n",
      "29\n",
      "31\n",
      "37\n",
      "41\n",
      "43\n",
      "47\n",
      "53\n",
      "59\n",
      "61\n",
      "67\n",
      "71\n"
     ]
    }
   ],
   "source": [
    "def is_prime(num):\n",
    "    if num < 2:\n",
    "        return False\n",
    "    for i in range(2, int(num**0.5) + 1):\n",
    "        if num % i == 0:\n",
    "            return False\n",
    "    return True\n",
    "\n",
    "def generate_primes():\n",
    "    num = 2\n",
    "    while num < 1000:\n",
    "        if is_prime(num):\n",
    "            yield num\n",
    "        num += 1\n",
    "        \n",
    "# Create a generator object\n",
    "primes_generator = generate_primes()\n",
    "\n",
    "# Print the first 20 prime numbers using next()\n",
    "for _ in range(20):\n",
    "    prime = next(primes_generator)\n",
    "    print(prime)"
   ]
  },
  {
   "cell_type": "markdown",
   "id": "b75f1012-e64b-4c02-af5e-b682bfd86b36",
   "metadata": {},
   "source": [
    "Q6. Write a python program to print the first 10 Fibonacci numbers using a while loop."
   ]
  },
  {
   "cell_type": "code",
   "execution_count": 10,
   "id": "7f96bcd9-df69-472e-af4a-ef8c1b7b699a",
   "metadata": {},
   "outputs": [],
   "source": [
    "def feb():\n",
    "    a , b = 0 , 1 \n",
    "    while True:\n",
    "        yield a \n",
    "        a , b = b , a+b \n",
    "    "
   ]
  },
  {
   "cell_type": "code",
   "execution_count": 11,
   "id": "c2e42486-e050-4a45-a5fb-87ab68da658c",
   "metadata": {},
   "outputs": [],
   "source": [
    "fibob = feb()"
   ]
  },
  {
   "cell_type": "code",
   "execution_count": 12,
   "id": "0eec88bf-aeb4-4567-9ae2-d04757fd5aa4",
   "metadata": {},
   "outputs": [
    {
     "name": "stdout",
     "output_type": "stream",
     "text": [
      "0\n",
      "1\n",
      "1\n",
      "2\n",
      "3\n",
      "5\n",
      "8\n",
      "13\n",
      "21\n",
      "34\n"
     ]
    }
   ],
   "source": [
    "for i in range(10):\n",
    "    print(next(fibob))"
   ]
  },
  {
   "cell_type": "markdown",
   "id": "3a12daed-312b-47bc-8b5e-cf8a35745a6f",
   "metadata": {},
   "source": [
    "Q7. Write a List Comprehension to iterate through the given string: ‘pwskills’.\n",
    "Expected output: ['p', 'w', 's', 'k', 'i', 'l', 'l', 's']"
   ]
  },
  {
   "cell_type": "code",
   "execution_count": 13,
   "id": "1865166a-d30f-4de4-bda6-0bdf47590af6",
   "metadata": {},
   "outputs": [
    {
     "data": {
      "text/plain": [
       "['p', 'w', 's', 'k', 'i', 'l', 'l', 's']"
      ]
     },
     "execution_count": 13,
     "metadata": {},
     "output_type": "execute_result"
    }
   ],
   "source": [
    "st = 'pwskills'\n",
    "l1 = []\n",
    "\n",
    "for i in st:\n",
    "    l1.append(i)\n",
    "    \n",
    "l1"
   ]
  },
  {
   "cell_type": "markdown",
   "id": "5724bc3d-ff15-4747-b17a-eb799884ffbc",
   "metadata": {},
   "source": [
    "Q8. Write a python program to check whether a given number is Palindrome or not using a while loop."
   ]
  },
  {
   "cell_type": "code",
   "execution_count": 14,
   "id": "8f46ebf7-35dd-408d-8a85-d8998c88f948",
   "metadata": {},
   "outputs": [],
   "source": [
    "def is_palindrome(s):\n",
    "    s = s.lower() \n",
    "    left = 0\n",
    "    right = len(s) - 1\n",
    "    \n",
    "    while left < right:\n",
    "        if s[left] != s[right]:\n",
    "            return False\n",
    "        left += 1\n",
    "        right -= 1\n",
    "\n",
    "    return True\n",
    "\n"
   ]
  },
  {
   "cell_type": "code",
   "execution_count": 15,
   "id": "e7bc3de2-1af5-47e7-a3f9-a2835f4c922a",
   "metadata": {},
   "outputs": [
    {
     "data": {
      "text/plain": [
       "True"
      ]
     },
     "execution_count": 15,
     "metadata": {},
     "output_type": "execute_result"
    }
   ],
   "source": [
    "is_palindrome('level')"
   ]
  },
  {
   "cell_type": "markdown",
   "id": "b02e89e0-d3e2-4dc9-8874-2d467aef732a",
   "metadata": {},
   "source": [
    "Q9. Write a code to print odd numbers from 1 to 100 using list comprehension."
   ]
  },
  {
   "cell_type": "code",
   "execution_count": 16,
   "id": "0a467a19-7a18-4eae-9cbb-e8fff25af087",
   "metadata": {},
   "outputs": [
    {
     "name": "stdout",
     "output_type": "stream",
     "text": [
      "[1, 3, 5, 7, 9, 11, 13, 15, 17, 19, 21, 23, 25, 27, 29, 31, 33, 35, 37, 39, 41, 43, 45, 47, 49, 51, 53, 55, 57, 59, 61, 63, 65, 67, 69, 71, 73, 75, 77, 79, 81, 83, 85, 87, 89, 91, 93, 95, 97, 99]\n"
     ]
    }
   ],
   "source": [
    "odd_numbers = [num for num in range(1, 101) if num % 2 != 0]\n",
    "print(odd_numbers)\n"
   ]
  },
  {
   "cell_type": "code",
   "execution_count": 17,
   "id": "afaa08fd-0c05-4f89-aeec-e02444ad9978",
   "metadata": {},
   "outputs": [
    {
     "name": "stdout",
     "output_type": "stream",
     "text": [
      "[1, 3, 5, 7, 9, 11, 13, 15, 17, 19, 21, 23, 25, 27, 29, 31, 33, 35, 37, 39, 41, 43, 45, 47, 49, 51, 53, 55, 57, 59, 61, 63, 65, 67, 69, 71, 73, 75, 77, 79, 81, 83, 85, 87, 89, 91, 93, 95, 97, 99]\n"
     ]
    }
   ],
   "source": [
    "# List comprehension to create a list from 1 to 100\n",
    "numbers_list = [num for num in range(1, 101)]\n",
    "\n",
    "# List comprehension to filter out odd numbers from the numbers_list\n",
    "odd_numbers = [num for num in numbers_list if num % 2 != 0]\n",
    "\n",
    "print(odd_numbers)\n"
   ]
  },
  {
   "cell_type": "code",
   "execution_count": null,
   "id": "36ce879b-71f8-4104-9739-f30664c0e2e1",
   "metadata": {},
   "outputs": [],
   "source": []
  }
 ],
 "metadata": {
  "kernelspec": {
   "display_name": "Python 3 (ipykernel)",
   "language": "python",
   "name": "python3"
  },
  "language_info": {
   "codemirror_mode": {
    "name": "ipython",
    "version": 3
   },
   "file_extension": ".py",
   "mimetype": "text/x-python",
   "name": "python",
   "nbconvert_exporter": "python",
   "pygments_lexer": "ipython3",
   "version": "3.10.8"
  }
 },
 "nbformat": 4,
 "nbformat_minor": 5
}
